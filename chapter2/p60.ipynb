{
 "cells": [
  {
   "cell_type": "code",
   "execution_count": 1,
   "id": "135c2439",
   "metadata": {},
   "outputs": [
    {
     "name": "stdout",
     "output_type": "stream",
     "text": [
      "<class 'int'>\n"
     ]
    }
   ],
   "source": [
    "# int\n",
    "var_1 = 1\n",
    "print(type(var_1))"
   ]
  },
  {
   "cell_type": "code",
   "execution_count": 2,
   "id": "ea46e79d",
   "metadata": {},
   "outputs": [
    {
     "name": "stdout",
     "output_type": "stream",
     "text": [
      "<class 'float'>\n"
     ]
    }
   ],
   "source": [
    "# float\n",
    "var_2 = 2.3\n",
    "print(type(var_2))"
   ]
  },
  {
   "cell_type": "code",
   "execution_count": 3,
   "id": "9fe2a834",
   "metadata": {},
   "outputs": [
    {
     "name": "stdout",
     "output_type": "stream",
     "text": [
      "<class 'str'>\n",
      "[hello,|world]\n"
     ]
    }
   ],
   "source": [
    "# str\n",
    "var_3 = '[hello,|'\n",
    "var_3 = var_3 + 'world]'\n",
    "print(type(var_3))\n",
    "print(var_3)"
   ]
  },
  {
   "cell_type": "code",
   "execution_count": 4,
   "id": "ebe3a8c2",
   "metadata": {},
   "outputs": [
    {
     "name": "stdout",
     "output_type": "stream",
     "text": [
      "hogehogehoge\n"
     ]
    }
   ],
   "source": [
    "# strは掛け算で繰り返し可能\n",
    "print('hoge' * 3)"
   ]
  },
  {
   "cell_type": "code",
   "execution_count": 5,
   "id": "80192d93",
   "metadata": {},
   "outputs": [
    {
     "name": "stdout",
     "output_type": "stream",
     "text": [
      "HOGE\n"
     ]
    }
   ],
   "source": [
    "# 大文字化\n",
    "print('Hoge'.upper())"
   ]
  },
  {
   "cell_type": "code",
   "execution_count": 6,
   "id": "8a87c91f",
   "metadata": {},
   "outputs": [
    {
     "name": "stdout",
     "output_type": "stream",
     "text": [
      "hoge\n"
     ]
    }
   ],
   "source": [
    "# 小文字化\n",
    "print('Hoge'.lower())"
   ]
  },
  {
   "cell_type": "code",
   "execution_count": 7,
   "id": "a0201b6a",
   "metadata": {},
   "outputs": [
    {
     "name": "stdout",
     "output_type": "stream",
     "text": [
      "4\n",
      "2\n"
     ]
    }
   ],
   "source": [
    "# 文字列内カウント\n",
    "target_str = 'aabbccddaabbccdd'\n",
    "# 文字をカウント\n",
    "print(target_str.count('a'))\n",
    "# 文字列をカウント\n",
    "print(target_str.count('aa'))"
   ]
  },
  {
   "cell_type": "code",
   "execution_count": 8,
   "id": "ffaa77da",
   "metadata": {},
   "outputs": [
    {
     "name": "stdout",
     "output_type": "stream",
     "text": [
      "<class 'bool'>\n",
      "True\n"
     ]
    }
   ],
   "source": [
    "# bool\n",
    "var_4 = 10 < 20\n",
    "print(type(var_4))\n",
    "print(var_4)"
   ]
  },
  {
   "cell_type": "code",
   "execution_count": 9,
   "id": "6d4ecb29",
   "metadata": {},
   "outputs": [
    {
     "name": "stdout",
     "output_type": "stream",
     "text": [
      "<class 'list'>\n",
      "['a', 'b', 'c']\n",
      "a\n",
      "b\n",
      "c\n"
     ]
    }
   ],
   "source": [
    "# list\n",
    "var_5 = ['a', 'b', 'c']\n",
    "print(type(var_5))\n",
    "print(var_5)\n",
    "print(var_5[0])\n",
    "print(var_5[1])\n",
    "print(var_5[2])"
   ]
  },
  {
   "cell_type": "code",
   "execution_count": 10,
   "id": "e5dcb8fa",
   "metadata": {},
   "outputs": [
    {
     "name": "stdout",
     "output_type": "stream",
     "text": [
      "['x', 'y', 'z']\n",
      "['y', 'z']\n"
     ]
    }
   ],
   "source": [
    "# listの追加/削除\n",
    "target_list = ['x', 'y']\n",
    "# 追加\n",
    "target_list.append('z')\n",
    "print(target_list)\n",
    "# 削除\n",
    "target_list.remove('x')\n",
    "print(target_list)"
   ]
  },
  {
   "cell_type": "code",
   "execution_count": 11,
   "id": "fe92d01e",
   "metadata": {},
   "outputs": [
    {
     "name": "stdout",
     "output_type": "stream",
     "text": [
      "[2, 1, 3, 5, 4]\n",
      "[1, 2, 3, 4, 5]\n"
     ]
    }
   ],
   "source": [
    "# listのソート(数字)\n",
    "num_list = [2, 1, 3, 5, 4]\n",
    "print(num_list)\n",
    "num_list.sort()\n",
    "print(num_list)"
   ]
  },
  {
   "cell_type": "code",
   "execution_count": 12,
   "id": "a4455ba7",
   "metadata": {},
   "outputs": [
    {
     "name": "stdout",
     "output_type": "stream",
     "text": [
      "['b', 'a', 'd', 'c']\n",
      "['a', 'b', 'c', 'd']\n"
     ]
    }
   ],
   "source": [
    "# listのソート(文字)\n",
    "str_list = ['b', 'a', 'd', 'c']\n",
    "print(str_list)\n",
    "str_list.sort()\n",
    "print(str_list)"
   ]
  },
  {
   "cell_type": "code",
   "execution_count": 13,
   "id": "f2875092",
   "metadata": {},
   "outputs": [
    {
     "name": "stdout",
     "output_type": "stream",
     "text": [
      "[1, 'c', 3, 'a', 2, 'b']\n"
     ]
    }
   ],
   "source": [
    "# listのソート(数字+文字)\n",
    "cannot_sort_list = [1, 'c', 3, 'a', 2, 'b']\n",
    "print(cannot_sort_list)\n",
    "# cannot_sort_list.sort() # -> TypeError\n",
    "# print(cannot_sort_list)"
   ]
  },
  {
   "cell_type": "code",
   "execution_count": 14,
   "id": "94d4f8d8",
   "metadata": {},
   "outputs": [
    {
     "name": "stdout",
     "output_type": "stream",
     "text": [
      "<class 'dict'>\n",
      "{'key1': 'val1', 'key2': 'val2', 'key3': 'val3'}\n",
      "val1\n",
      "val2\n",
      "val3\n"
     ]
    }
   ],
   "source": [
    "# dict\n",
    "var_6 = {'key1':'val1', 'key2':'val2', 'key3':'val3'}\n",
    "print(type(var_6))\n",
    "print(var_6)\n",
    "print(var_6['key1'])\n",
    "print(var_6['key2'])\n",
    "print(var_6['key3'])"
   ]
  },
  {
   "cell_type": "code",
   "execution_count": 15,
   "id": "6f8a3b13",
   "metadata": {},
   "outputs": [
    {
     "name": "stdout",
     "output_type": "stream",
     "text": [
      "<class 'tuple'>\n",
      "(1, 'a', 2, 'b')\n",
      "1\n",
      "a\n",
      "2\n",
      "b\n"
     ]
    }
   ],
   "source": [
    "# taple\n",
    "var_7 = (1, 'a', 2, 'b')\n",
    "print(type(var_7))\n",
    "print(var_7)\n",
    "\n",
    "# tapleはlistと同様に添字でアクセスできる\n",
    "print(var_7[0])\n",
    "print(var_7[1])\n",
    "print(var_7[2])\n",
    "print(var_7[3])\n",
    "\n",
    "# listと異なり、追加/削除/差し替え等の編集はできない\n",
    "# var_7[0] = 10 # -> Error"
   ]
  },
  {
   "cell_type": "code",
   "execution_count": 16,
   "id": "6e973417",
   "metadata": {},
   "outputs": [
    {
     "name": "stdout",
     "output_type": "stream",
     "text": [
      "<class 'dict'>\n",
      "{('1', '2'): 'value_1', '3': (1, 2, 3, 4, 5)}\n"
     ]
    }
   ],
   "source": [
    "# dict + taple\n",
    "var_8 = {} # dict\n",
    "var_8[('1', '2')] = 'value_1' # keyがtaple\n",
    "var_8['3'] = (1, 2, 3, 4, 5)  # valueがtaple\n",
    "print(type(var_8))\n",
    "print(var_8)"
   ]
  },
  {
   "cell_type": "code",
   "execution_count": 17,
   "id": "4cb3b9e6",
   "metadata": {},
   "outputs": [
    {
     "name": "stdout",
     "output_type": "stream",
     "text": [
      "<class 'dict'>\n",
      "{1: ['value_1', 'value_2']}\n"
     ]
    }
   ],
   "source": [
    "# dict + list\n",
    "var_9         = {} # dict\n",
    "var_9[1]      = ['value_1', 'value_2'] # valueがlist\n",
    "# var_9[[2, 3]] = 'value_3'              # keyがlist -> Error\n",
    "print(type(var_9))\n",
    "print(var_9)"
   ]
  },
  {
   "cell_type": "code",
   "execution_count": 18,
   "id": "d104dbe0",
   "metadata": {},
   "outputs": [
    {
     "name": "stdout",
     "output_type": "stream",
     "text": [
      "<class 'set'>\n",
      "{'bar', 'foo', 'fuga', 'hoge'}\n",
      "<class 'set'>\n",
      "{'h', 'o', 'g', 'e'}\n",
      "<class 'set'>\n",
      "{'fuga', 'hoge'}\n"
     ]
    }
   ],
   "source": [
    "# set\n",
    "var_10_1 = {'hoge', 'fuga', 'foo', 'bar', 'hoge'}\n",
    "print(type(var_10_1))\n",
    "print(var_10_1) # setは順番を保持せず、重複している文字列を排除する(hogeが2回登場するが、変数内には1回しか出ない)\n",
    "\n",
    "var_10_2 = set('hoge')\n",
    "print(type(var_10_2))\n",
    "print(var_10_2) # set関数で作ると文字列がバラバラになる\n",
    "\n",
    "var_10_2_mod = set(['hoge', 'fuga']) # listで包んでset関数に渡す\n",
    "print(type(var_10_2_mod))\n",
    "print(var_10_2_mod)"
   ]
  },
  {
   "cell_type": "code",
   "execution_count": 19,
   "id": "c827413e",
   "metadata": {},
   "outputs": [
    {
     "name": "stdout",
     "output_type": "stream",
     "text": [
      "{'foo', 'fuga', 'hoge'}\n",
      "{'bar', 'foo', 'fuga', 'hoge'}\n",
      "{'bar', 'foo', 'fuga'}\n"
     ]
    }
   ],
   "source": [
    "# setの追加/削除\n",
    "var_11 = {'hoge', 'fuga', 'foo'}\n",
    "print(var_11)\n",
    "\n",
    "var_11.update(['bar']) # listにしないとバラバラになるのて注意\n",
    "print(var_11)\n",
    "\n",
    "var_11.remove('hoge') # remove対象はlistにしなくてよい\n",
    "print(var_11)"
   ]
  },
  {
   "cell_type": "code",
   "execution_count": null,
   "id": "45184fc9",
   "metadata": {},
   "outputs": [],
   "source": []
  }
 ],
 "metadata": {
  "kernelspec": {
   "display_name": "Python 3 (ipykernel)",
   "language": "python",
   "name": "python3"
  },
  "language_info": {
   "codemirror_mode": {
    "name": "ipython",
    "version": 3
   },
   "file_extension": ".py",
   "mimetype": "text/x-python",
   "name": "python",
   "nbconvert_exporter": "python",
   "pygments_lexer": "ipython3",
   "version": "3.8.9"
  }
 },
 "nbformat": 4,
 "nbformat_minor": 5
}
