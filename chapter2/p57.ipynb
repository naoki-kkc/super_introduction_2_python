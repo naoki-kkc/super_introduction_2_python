{
 "cells": [
  {
   "cell_type": "code",
   "execution_count": 1,
   "id": "0a99f5bc",
   "metadata": {},
   "outputs": [
    {
     "name": "stdout",
     "output_type": "stream",
     "text": [
      "True\n"
     ]
    }
   ],
   "source": [
    "# True\n",
    "print(10 == 10)"
   ]
  },
  {
   "cell_type": "code",
   "execution_count": 2,
   "id": "f3f586fa",
   "metadata": {},
   "outputs": [
    {
     "name": "stdout",
     "output_type": "stream",
     "text": [
      "False\n"
     ]
    }
   ],
   "source": [
    "# False\n",
    "print(10 == 11)"
   ]
  },
  {
   "cell_type": "code",
   "execution_count": 3,
   "id": "03a3e898",
   "metadata": {},
   "outputs": [
    {
     "name": "stdout",
     "output_type": "stream",
     "text": [
      "True\n"
     ]
    }
   ],
   "source": [
    "# 変数に格納しても比較可能\n",
    "var1 = 20\n",
    "print(var1 == 20)"
   ]
  },
  {
   "cell_type": "code",
   "execution_count": 4,
   "id": "b5d15482",
   "metadata": {},
   "outputs": [
    {
     "name": "stdout",
     "output_type": "stream",
     "text": [
      "True\n"
     ]
    }
   ],
   "source": [
    "# 比較演算子 - より大きい\n",
    "print(200 > 100)"
   ]
  },
  {
   "cell_type": "code",
   "execution_count": 5,
   "id": "1a97aa16",
   "metadata": {},
   "outputs": [
    {
     "name": "stdout",
     "output_type": "stream",
     "text": [
      "True\n",
      "True\n"
     ]
    }
   ],
   "source": [
    "# 比較演算子 - 以上\n",
    "print(200 >= 100)\n",
    "print(200 >= 200)"
   ]
  },
  {
   "cell_type": "code",
   "execution_count": 6,
   "id": "bd737673",
   "metadata": {},
   "outputs": [
    {
     "name": "stdout",
     "output_type": "stream",
     "text": [
      "True\n"
     ]
    }
   ],
   "source": [
    "# 比較演算子 - より小さい\n",
    "print(100 < 200)"
   ]
  },
  {
   "cell_type": "code",
   "execution_count": 7,
   "id": "93accecf",
   "metadata": {},
   "outputs": [
    {
     "name": "stdout",
     "output_type": "stream",
     "text": [
      "True\n",
      "True\n"
     ]
    }
   ],
   "source": [
    "# 比較演算子 - 以下\n",
    "print(100 <= 200)\n",
    "print(100 <= 100)"
   ]
  },
  {
   "cell_type": "code",
   "execution_count": 10,
   "id": "ea74904e",
   "metadata": {},
   "outputs": [
    {
     "name": "stdout",
     "output_type": "stream",
     "text": [
      "True\n"
     ]
    }
   ],
   "source": [
    "# 比較演算子 - 等しい\n",
    "print(100 == 100)"
   ]
  },
  {
   "cell_type": "code",
   "execution_count": 11,
   "id": "d6c38b3d",
   "metadata": {},
   "outputs": [
    {
     "name": "stdout",
     "output_type": "stream",
     "text": [
      "True\n"
     ]
    }
   ],
   "source": [
    "# 比較演算子 - 等しくない\n",
    "print(100 != 200)"
   ]
  }
 ],
 "metadata": {
  "kernelspec": {
   "display_name": "Python 3 (ipykernel)",
   "language": "python",
   "name": "python3"
  },
  "language_info": {
   "codemirror_mode": {
    "name": "ipython",
    "version": 3
   },
   "file_extension": ".py",
   "mimetype": "text/x-python",
   "name": "python",
   "nbconvert_exporter": "python",
   "pygments_lexer": "ipython3",
   "version": "3.8.9"
  }
 },
 "nbformat": 4,
 "nbformat_minor": 5
}
