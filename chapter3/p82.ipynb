{
 "cells": [
  {
   "cell_type": "code",
   "execution_count": null,
   "id": "195dd2f7",
   "metadata": {},
   "outputs": [],
   "source": [
    "# 条件分岐 - if"
   ]
  },
  {
   "cell_type": "code",
   "execution_count": 1,
   "id": "4a2c62bf",
   "metadata": {},
   "outputs": [
    {
     "name": "stdout",
     "output_type": "stream",
     "text": [
      "if\n"
     ]
    }
   ],
   "source": [
    "# if\n",
    "if (1 == 1):\n",
    "    print('if')"
   ]
  },
  {
   "cell_type": "code",
   "execution_count": 2,
   "id": "93477fb7",
   "metadata": {},
   "outputs": [
    {
     "name": "stdout",
     "output_type": "stream",
     "text": [
      "else\n"
     ]
    }
   ],
   "source": [
    "# if - else\n",
    "if (1 == 2):\n",
    "    print('if')\n",
    "else:\n",
    "    print('else')"
   ]
  },
  {
   "cell_type": "code",
   "execution_count": 6,
   "id": "31c9d807",
   "metadata": {},
   "outputs": [
    {
     "name": "stdout",
     "output_type": "stream",
     "text": [
      "if\n"
     ]
    }
   ],
   "source": [
    "# if - elif - else\n",
    "val = 1\n",
    "if(val == 1):\n",
    "    print('if')\n",
    "elif(val == 2):\n",
    "    print('elif')\n",
    "else:\n",
    "    print('else')"
   ]
  },
  {
   "cell_type": "code",
   "execution_count": 9,
   "id": "2a0f6b15",
   "metadata": {},
   "outputs": [
    {
     "name": "stdout",
     "output_type": "stream",
     "text": [
      "True and True\n"
     ]
    }
   ],
   "source": [
    "# and\n",
    "if True and True:\n",
    "    print('True and True')\n",
    "\n",
    "if True and False:\n",
    "    print('True and False')"
   ]
  },
  {
   "cell_type": "code",
   "execution_count": 10,
   "id": "6e6b3405",
   "metadata": {},
   "outputs": [
    {
     "name": "stdout",
     "output_type": "stream",
     "text": [
      "True or True\n",
      "True or False\n"
     ]
    }
   ],
   "source": [
    "# or\n",
    "if True or True:\n",
    "    print('True or True')\n",
    "\n",
    "if True or False:\n",
    "    print('True or False')"
   ]
  },
  {
   "cell_type": "code",
   "execution_count": null,
   "id": "6692fc77",
   "metadata": {},
   "outputs": [],
   "source": []
  }
 ],
 "metadata": {
  "kernelspec": {
   "display_name": "Python 3 (ipykernel)",
   "language": "python",
   "name": "python3"
  },
  "language_info": {
   "codemirror_mode": {
    "name": "ipython",
    "version": 3
   },
   "file_extension": ".py",
   "mimetype": "text/x-python",
   "name": "python",
   "nbconvert_exporter": "python",
   "pygments_lexer": "ipython3",
   "version": "3.8.9"
  }
 },
 "nbformat": 4,
 "nbformat_minor": 5
}
