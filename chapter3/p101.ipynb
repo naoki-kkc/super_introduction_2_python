{
 "cells": [
  {
   "cell_type": "code",
   "execution_count": null,
   "id": "5e3ec7a4",
   "metadata": {},
   "outputs": [],
   "source": [
    "# 繰り返し"
   ]
  },
  {
   "cell_type": "code",
   "execution_count": 2,
   "id": "009680c5",
   "metadata": {},
   "outputs": [
    {
     "name": "stdout",
     "output_type": "stream",
     "text": [
      "0\n",
      "1\n",
      "2\n",
      "3\n",
      "4\n"
     ]
    }
   ],
   "source": [
    "# for\n",
    "for i in range(5):\n",
    "    print(i)"
   ]
  },
  {
   "cell_type": "code",
   "execution_count": 3,
   "id": "ce39c201",
   "metadata": {},
   "outputs": [
    {
     "name": "stdout",
     "output_type": "stream",
     "text": [
      "h\n",
      "o\n",
      "g\n",
      "e\n",
      "f\n",
      "u\n",
      "g\n",
      "a\n"
     ]
    }
   ],
   "source": [
    "sample_str = \"hogefuga\"\n",
    "for s in sample_str:\n",
    "    print(s)"
   ]
  },
  {
   "cell_type": "code",
   "execution_count": 4,
   "id": "e51c4bd4",
   "metadata": {},
   "outputs": [
    {
     "name": "stdout",
     "output_type": "stream",
     "text": [
      "hoge\n",
      "fuga\n",
      "foo\n",
      "bar\n"
     ]
    }
   ],
   "source": [
    "sample_list = ['hoge', 'fuga', 'foo', 'bar']\n",
    "for l in sample_list:\n",
    "    print(l)"
   ]
  },
  {
   "cell_type": "code",
   "execution_count": 7,
   "id": "4685a1a5",
   "metadata": {},
   "outputs": [
    {
     "name": "stdout",
     "output_type": "stream",
     "text": [
      "key1\n",
      "val1\n",
      "key2\n",
      "val2\n",
      "key3\n",
      "val3\n"
     ]
    }
   ],
   "source": [
    "sample_dict = {'key1':'val1', 'key2':'val2','key3':'val3'}\n",
    "for d in sample_dict:\n",
    "    print(d) # keyを繰り返す\n",
    "    print(sample_dict[d]) # valueはkeyを使って取り出す"
   ]
  },
  {
   "cell_type": "code",
   "execution_count": 8,
   "id": "e6f76406",
   "metadata": {},
   "outputs": [
    {
     "name": "stdout",
     "output_type": "stream",
     "text": [
      "0\n",
      "1\n",
      "2\n",
      "3\n",
      "4\n"
     ]
    }
   ],
   "source": [
    "# while\n",
    "counter = 0\n",
    "while(counter < 5):\n",
    "    print(counter)\n",
    "    counter += 1"
   ]
  },
  {
   "cell_type": "code",
   "execution_count": 9,
   "id": "562cde4a",
   "metadata": {},
   "outputs": [
    {
     "name": "stdout",
     "output_type": "stream",
     "text": [
      "0\n",
      "1\n",
      "2\n",
      "break!\n"
     ]
    }
   ],
   "source": [
    "# break - 中断\n",
    "counter = 0\n",
    "while(counter < 5):\n",
    "    if counter == 3:\n",
    "        print('break!')\n",
    "        break\n",
    "    print(counter)\n",
    "    counter += 1"
   ]
  },
  {
   "cell_type": "code",
   "execution_count": 1,
   "id": "4958c94b",
   "metadata": {},
   "outputs": [
    {
     "name": "stdout",
     "output_type": "stream",
     "text": [
      "0\n",
      "1\n",
      "2\n",
      "continue!\n",
      "4\n"
     ]
    }
   ],
   "source": [
    "# continue - 繰り返し処理をスキップしつつ継続\n",
    "counter = 0\n",
    "while(counter < 5):\n",
    "    if counter == 3:\n",
    "        print('continue!')\n",
    "        counter += 1\n",
    "        continue\n",
    "    print(counter)\n",
    "    counter += 1"
   ]
  }
 ],
 "metadata": {
  "kernelspec": {
   "display_name": "Python 3 (ipykernel)",
   "language": "python",
   "name": "python3"
  },
  "language_info": {
   "codemirror_mode": {
    "name": "ipython",
    "version": 3
   },
   "file_extension": ".py",
   "mimetype": "text/x-python",
   "name": "python",
   "nbconvert_exporter": "python",
   "pygments_lexer": "ipython3",
   "version": "3.8.9"
  }
 },
 "nbformat": 4,
 "nbformat_minor": 5
}
