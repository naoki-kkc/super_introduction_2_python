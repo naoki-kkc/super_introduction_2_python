{
 "cells": [
  {
   "cell_type": "code",
   "execution_count": 1,
   "id": "8d77b817",
   "metadata": {},
   "outputs": [],
   "source": [
    "# SyntaxError - 構文そのもののエラー。下記例では閉じ括弧がない。\n",
    "# print('hoge'"
   ]
  },
  {
   "cell_type": "code",
   "execution_count": 2,
   "id": "ec7b0cd4",
   "metadata": {},
   "outputs": [],
   "source": [
    "# NameError - 存在しない関数や変数を呼び出している \n",
    "# prin('hoge') # 「print」のタイプミス\n",
    "# print(val)   # 変数valは宣言されていない"
   ]
  },
  {
   "cell_type": "code",
   "execution_count": 3,
   "id": "ab8c89be",
   "metadata": {},
   "outputs": [],
   "source": [
    "# TypeError - 処理内容と型が一致していない\n",
    "# print('1' + 2)"
   ]
  },
  {
   "cell_type": "code",
   "execution_count": 4,
   "id": "71a1c48c",
   "metadata": {},
   "outputs": [
    {
     "name": "stdout",
     "output_type": "stream",
     "text": [
      "エラーが発生しました\n"
     ]
    }
   ],
   "source": [
    "# 例外\n",
    "try:\n",
    "    print(hoge) # 変数hogeは存在しないのでエラー\n",
    "except:\n",
    "    print('エラーが発生しました')"
   ]
  },
  {
   "cell_type": "code",
   "execution_count": 5,
   "id": "b0e397f2",
   "metadata": {},
   "outputs": [
    {
     "name": "stdout",
     "output_type": "stream",
     "text": [
      "エラーが発生しました。\n",
      "name 'hoge' is not defined\n"
     ]
    }
   ],
   "source": [
    "# 例外時のエラー内容を表示する\n",
    "try:\n",
    "    print(hoge)\n",
    "except Exception as e:\n",
    "    print('エラーが発生しました。')\n",
    "    print(e)"
   ]
  },
  {
   "cell_type": "code",
   "execution_count": 6,
   "id": "03b494d7",
   "metadata": {},
   "outputs": [
    {
     "name": "stdout",
     "output_type": "stream",
     "text": [
      "エラーが発生しました。\n",
      "------ print(traceback.format_exec()) --\n",
      "Traceback (most recent call last):\n",
      "  File \"/var/folders/s9/q6y82wgd0vbcgm17kt44c0vh0000gn/T/ipykernel_15707/1170980548.py\", line 4, in <cell line: 3>\n",
      "    print(hoge)\n",
      "NameError: name 'hoge' is not defined\n",
      "\n",
      "------ traceback.print_exec() --\n"
     ]
    },
    {
     "name": "stderr",
     "output_type": "stream",
     "text": [
      "Traceback (most recent call last):\n",
      "  File \"/var/folders/s9/q6y82wgd0vbcgm17kt44c0vh0000gn/T/ipykernel_15707/1170980548.py\", line 4, in <cell line: 3>\n",
      "    print(hoge)\n",
      "NameError: name 'hoge' is not defined\n"
     ]
    }
   ],
   "source": [
    "# 例外時のスタックトレースを表示する\n",
    "import traceback\n",
    "try:\n",
    "    print(hoge)\n",
    "except:\n",
    "    print('エラーが発生しました。')\n",
    "    print('------ print(traceback.format_exec()) --')\n",
    "    print(traceback.format_exc())\n",
    "    print('------ traceback.print_exec() --')\n",
    "    traceback.print_exc()"
   ]
  },
  {
   "cell_type": "code",
   "execution_count": 7,
   "id": "bdcbc58b",
   "metadata": {},
   "outputs": [
    {
     "name": "stdout",
     "output_type": "stream",
     "text": [
      "エラーを再スローします\n",
      "Traceback (most recent call last):\n",
      "  File \"/var/folders/s9/q6y82wgd0vbcgm17kt44c0vh0000gn/T/ipykernel_15707/1477676647.py\", line 4, in <cell line: 2>\n",
      "    print(hoge)\n",
      "NameError: name 'hoge' is not defined\n",
      "\n",
      "再スローしたエラーをキャッチしました\n",
      "Traceback (most recent call last):\n",
      "  File \"/var/folders/s9/q6y82wgd0vbcgm17kt44c0vh0000gn/T/ipykernel_15707/1477676647.py\", line 4, in <cell line: 2>\n",
      "    print(hoge)\n",
      "NameError: name 'hoge' is not defined\n",
      "\n"
     ]
    }
   ],
   "source": [
    "# 例外の再スロー\n",
    "try:\n",
    "    try:\n",
    "        print(hoge)\n",
    "    except:\n",
    "        print('エラーを再スローします')\n",
    "        print(traceback.format_exc())\n",
    "        raise\n",
    "except:\n",
    "    print('再スローしたエラーをキャッチしました')\n",
    "    print(traceback.format_exc())"
   ]
  },
  {
   "cell_type": "code",
   "execution_count": null,
   "id": "fe9cacbb",
   "metadata": {},
   "outputs": [],
   "source": []
  }
 ],
 "metadata": {
  "kernelspec": {
   "display_name": "Python 3 (ipykernel)",
   "language": "python",
   "name": "python3"
  },
  "language_info": {
   "codemirror_mode": {
    "name": "ipython",
    "version": 3
   },
   "file_extension": ".py",
   "mimetype": "text/x-python",
   "name": "python",
   "nbconvert_exporter": "python",
   "pygments_lexer": "ipython3",
   "version": "3.8.9"
  }
 },
 "nbformat": 4,
 "nbformat_minor": 5
}
