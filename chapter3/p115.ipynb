{
 "cells": [
  {
   "cell_type": "code",
   "execution_count": 1,
   "id": "b0eda3cc",
   "metadata": {},
   "outputs": [],
   "source": [
    "# 関数"
   ]
  },
  {
   "cell_type": "code",
   "execution_count": 2,
   "id": "882cc003",
   "metadata": {},
   "outputs": [
    {
     "name": "stdout",
     "output_type": "stream",
     "text": [
      "call hoge\n"
     ]
    }
   ],
   "source": [
    "# 関数を作成\n",
    "def hoge():\n",
    "    print('call hoge')\n",
    "\n",
    "#関数を呼び出し\n",
    "hoge()"
   ]
  },
  {
   "cell_type": "code",
   "execution_count": 3,
   "id": "475e1df1",
   "metadata": {},
   "outputs": [
    {
     "name": "stdout",
     "output_type": "stream",
     "text": [
      "arg = foobar\n"
     ]
    }
   ],
   "source": [
    "# 引数ありの関数\n",
    "def fuga(arg):\n",
    "    print('arg = ' + str(arg))\n",
    "\n",
    "fuga('foobar')"
   ]
  },
  {
   "cell_type": "code",
   "execution_count": 4,
   "id": "a5104f09",
   "metadata": {},
   "outputs": [
    {
     "name": "stdout",
     "output_type": "stream",
     "text": [
      "8\n",
      "3\n",
      "2\n"
     ]
    }
   ],
   "source": [
    "# 組み込み関数 - len()\n",
    "print(len('hogefuga'))                     # 文字列カウント\n",
    "print(len(['1', '2', '3']))                # listの要素数\n",
    "print(len({'key1':'val1', 'key2':'val2'})) # dictのキー数"
   ]
  },
  {
   "cell_type": "code",
   "execution_count": 5,
   "id": "83053f4b",
   "metadata": {},
   "outputs": [
    {
     "name": "stdout",
     "output_type": "stream",
     "text": [
      "5\n",
      "1\n",
      "g\n",
      "a\n",
      "a\n",
      "1\n"
     ]
    }
   ],
   "source": [
    "# 組み込み関数 - max()/min()\n",
    "## 数値\n",
    "num_list = [1, 2, 3, 4, 5]\n",
    "print(max(num_list)) # 最大値\n",
    "print(min(num_list)) # 最小値\n",
    "## 文字列\n",
    "maxmin_str = 'abcdefg' # g > f > ... > b > a\n",
    "print(max(maxmin_str))\n",
    "print(min(maxmin_str))\n",
    "## list\n",
    "str_list = ['1', 'a', 'A'] # a > A > 1\n",
    "print(max(str_list)) \n",
    "print(min(str_list))"
   ]
  },
  {
   "cell_type": "code",
   "execution_count": 6,
   "id": "3d0a87d6",
   "metadata": {},
   "outputs": [
    {
     "name": "stdout",
     "output_type": "stream",
     "text": [
      "['a', 'e', 'f', 'g', 'g', 'h', 'o', 'u']\n",
      "['u', 'o', 'h', 'g', 'g', 'f', 'e', 'a']\n",
      "[1, 10, 100, 1000]\n",
      "[1000, 100, 10, 1]\n"
     ]
    }
   ],
   "source": [
    "# 組み込み関数 - sorted()\n",
    "## 文字列\n",
    "print(sorted('hogefuga'))                 # アルファベット昇順で並ぶ\n",
    "print(sorted('hogefuga', reverse = True)) # アルファベット降順で並ぶ\n",
    "## list\n",
    "num_list = [1, 10 ,100, 1000]\n",
    "print(sorted(num_list))\n",
    "print(sorted(num_list, reverse = True))"
   ]
  }
 ],
 "metadata": {
  "kernelspec": {
   "display_name": "Python 3 (ipykernel)",
   "language": "python",
   "name": "python3"
  },
  "language_info": {
   "codemirror_mode": {
    "name": "ipython",
    "version": 3
   },
   "file_extension": ".py",
   "mimetype": "text/x-python",
   "name": "python",
   "nbconvert_exporter": "python",
   "pygments_lexer": "ipython3",
   "version": "3.8.9"
  }
 },
 "nbformat": 4,
 "nbformat_minor": 5
}
