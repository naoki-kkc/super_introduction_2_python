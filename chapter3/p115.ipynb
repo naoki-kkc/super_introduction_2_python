{
 "cells": [
  {
   "cell_type": "code",
   "execution_count": 1,
   "id": "ce43dad8",
   "metadata": {},
   "outputs": [],
   "source": [
    "# 関数"
   ]
  },
  {
   "cell_type": "code",
   "execution_count": 4,
   "id": "6d103bbd",
   "metadata": {},
   "outputs": [
    {
     "name": "stdout",
     "output_type": "stream",
     "text": [
      "call hoge\n"
     ]
    }
   ],
   "source": [
    "# 関数を作成\n",
    "def hoge():\n",
    "    print('call hoge')\n",
    "\n",
    "#関数を呼び出し\n",
    "hoge()"
   ]
  },
  {
   "cell_type": "code",
   "execution_count": 5,
   "id": "fd37a275",
   "metadata": {},
   "outputs": [
    {
     "name": "stdout",
     "output_type": "stream",
     "text": [
      "arg = foobar\n"
     ]
    }
   ],
   "source": [
    "# 引数ありの関数\n",
    "def fuga(arg):\n",
    "    print('arg = ' + str(arg))\n",
    "\n",
    "fuga('foobar')"
   ]
  },
  {
   "cell_type": "code",
   "execution_count": 10,
   "id": "8fc5dd8a",
   "metadata": {},
   "outputs": [
    {
     "name": "stdout",
     "output_type": "stream",
     "text": [
      "8\n",
      "3\n",
      "2\n"
     ]
    }
   ],
   "source": [
    "# 組み込み関数 - len()\n",
    "print(len('hogefuga'))                     # 文字列カウント\n",
    "print(len(['1', '2', '3']))                # listの要素数\n",
    "print(len({'key1':'val1', 'key2':'val2'})) # dictのキー数"
   ]
  },
  {
   "cell_type": "code",
   "execution_count": 22,
   "id": "0edb949a",
   "metadata": {},
   "outputs": [
    {
     "name": "stdout",
     "output_type": "stream",
     "text": [
      "5\n",
      "1\n",
      "g\n",
      "a\n",
      "a\n",
      "1\n"
     ]
    }
   ],
   "source": [
    "# 組み込み関数 - max()/min()\n",
    "## 数値\n",
    "num_list = [1, 2, 3, 4, 5]\n",
    "print(max(num_list)) # 最大値\n",
    "print(min(num_list)) # 最小値\n",
    "## 文字列\n",
    "maxmin_str = 'abcdefg' # g > f > ... > b > a\n",
    "print(max(maxmin_str))\n",
    "print(min(maxmin_str))\n",
    "str_list = ['1', 'a', 'A'] # a > A > 1\n",
    "print(max(str_list)) \n",
    "print(min(str_list))"
   ]
  },
  {
   "cell_type": "code",
   "execution_count": null,
   "id": "221dcace",
   "metadata": {},
   "outputs": [],
   "source": []
  }
 ],
 "metadata": {
  "kernelspec": {
   "display_name": "Python 3 (ipykernel)",
   "language": "python",
   "name": "python3"
  },
  "language_info": {
   "codemirror_mode": {
    "name": "ipython",
    "version": 3
   },
   "file_extension": ".py",
   "mimetype": "text/x-python",
   "name": "python",
   "nbconvert_exporter": "python",
   "pygments_lexer": "ipython3",
   "version": "3.8.9"
  }
 },
 "nbformat": 4,
 "nbformat_minor": 5
}
