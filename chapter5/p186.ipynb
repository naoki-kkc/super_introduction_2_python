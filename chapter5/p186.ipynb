{
 "cells": [
  {
   "cell_type": "code",
   "execution_count": 1,
   "id": "467e1ad1",
   "metadata": {},
   "outputs": [],
   "source": [
    "# ファイルオブジェクト"
   ]
  },
  {
   "cell_type": "code",
   "execution_count": 2,
   "id": "e4e3d56f",
   "metadata": {},
   "outputs": [],
   "source": [
    "# 存在しないファイルを開こうとするとFileNotFoundError\n",
    "# open('hoge.txt', 'r')"
   ]
  },
  {
   "cell_type": "code",
   "execution_count": 3,
   "id": "2cdc722d",
   "metadata": {},
   "outputs": [
    {
     "name": "stdout",
     "output_type": "stream",
     "text": [
      "write something (w mode)\n"
     ]
    }
   ],
   "source": [
    "# ファイルを読み込みモードで開く\n",
    "fo = open('p186_sample.txt', 'r')\n",
    "print(fo.read())\n",
    "# fo.write('this operation is not allow') # 読み込みモードのため、書き込みはUnsupportedOperationとなる\n",
    "fo.close()"
   ]
  },
  {
   "cell_type": "code",
   "execution_count": 4,
   "id": "6ce4ef1b",
   "metadata": {},
   "outputs": [],
   "source": [
    "# ファイルを書き込みモードで開く\n",
    "fo = open('p186_sample.txt', 'w')\n",
    "fo.write('write something (w mode)') # 内容が上書きされることに注意\n",
    "# print(fo.read()) # 書き込みモードのため、読み込みはUnsupportedOperationとなる\n",
    "fo.flush() # close前にバッファを全て吐き出す\n",
    "fo.close()"
   ]
  },
  {
   "cell_type": "code",
   "execution_count": 5,
   "id": "9a95ddc3",
   "metadata": {},
   "outputs": [],
   "source": [
    "# ファイルを追記モードで開く\n",
    "fo = open('p186_sample.txt', 'a')\n",
    "fo.write('write something (a mode)') # 内容が追記される\n",
    "# print(fo.read()) # 追記モードのため、読み込みはUnsupportedOperationとなる\n",
    "fo.flush() # close前にバッファを全て吐き出す\n",
    "fo.close()"
   ]
  },
  {
   "cell_type": "code",
   "execution_count": 6,
   "id": "8205360b",
   "metadata": {},
   "outputs": [
    {
     "name": "stdout",
     "output_type": "stream",
     "text": [
      "write something (w mode)write something (a mode)\n",
      "\n",
      "write something (w mode)write something (a mode)write something (a mode)\n"
     ]
    }
   ],
   "source": [
    "# ファイルを書き込み+読み込みモードで開く\n",
    "fo = open('p186_sample.txt', 'r+')\n",
    "\n",
    "# 読み込み\n",
    "print(fo.read())\n",
    "\n",
    "# 書き込み\n",
    "fo.write('write something (a mode)') # 内容が追記される\n",
    "fo.flush() # close前にバッファを全て吐き出す\n",
    "\n",
    "# 読み込み\n",
    "print(fo.read()) # 読み込み位置がファイル末尾になっているため、書き込み内容が表示できない\n",
    "fo.seek(0)\n",
    "print(fo.read())\n",
    "\n",
    "fo.close()"
   ]
  },
  {
   "cell_type": "code",
   "execution_count": 7,
   "id": "da6fae36",
   "metadata": {},
   "outputs": [
    {
     "name": "stdout",
     "output_type": "stream",
     "text": [
      "write something (w mode)write something (a mode)write something (a mode)\n"
     ]
    }
   ],
   "source": [
    "# ファイルを読み込み(with)\n",
    "with open('p186_sample.txt', 'r') as fo:\n",
    "    print(fo.read())\n",
    "    # スコープを抜けた際にcloseされる"
   ]
  },
  {
   "cell_type": "code",
   "execution_count": 8,
   "id": "a4641638",
   "metadata": {},
   "outputs": [],
   "source": [
    "# ファイルを書き込み(with)\n",
    "with open('p186_sample.txt', 'w') as fo:\n",
    "    fo.write('write something (w mode)') # 内容が上書きされることに注意\n",
    "    fo.flush() # withで自動closeされるがバッファが書き込まれるかは運次第なので確実にflushする\n",
    "    # スコープを抜けた際にcloseされる"
   ]
  }
 ],
 "metadata": {
  "kernelspec": {
   "display_name": "Python 3 (ipykernel)",
   "language": "python",
   "name": "python3"
  },
  "language_info": {
   "codemirror_mode": {
    "name": "ipython",
    "version": 3
   },
   "file_extension": ".py",
   "mimetype": "text/x-python",
   "name": "python",
   "nbconvert_exporter": "python",
   "pygments_lexer": "ipython3",
   "version": "3.8.9"
  }
 },
 "nbformat": 4,
 "nbformat_minor": 5
}
