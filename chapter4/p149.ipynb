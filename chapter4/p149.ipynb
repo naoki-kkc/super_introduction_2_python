{
 "cells": [
  {
   "cell_type": "code",
   "execution_count": 1,
   "id": "1be9872a",
   "metadata": {},
   "outputs": [
    {
     "name": "stdout",
     "output_type": "stream",
     "text": [
      "baseclass init\n",
      "baseclass!\n"
     ]
    }
   ],
   "source": [
    "# 元になるクラス\n",
    "class baseclass():\n",
    "    def __init__(self):\n",
    "        print('baseclass init')\n",
    "    def who_are_you(self):\n",
    "        print('baseclass!')\n",
    "\n",
    "bc = baseclass()\n",
    "bc.who_are_you()"
   ]
  },
  {
   "cell_type": "code",
   "execution_count": 2,
   "id": "d9ea796c",
   "metadata": {},
   "outputs": [
    {
     "name": "stdout",
     "output_type": "stream",
     "text": [
      "baseclass init\n",
      "extendsclass!\n",
      "this is new method in extendsclass\n"
     ]
    }
   ],
   "source": [
    "# 継承したクラス\n",
    "\n",
    "class extendsclass1(baseclass):\n",
    "    def who_are_you(self):\n",
    "        # 継承元の関数と同名だと上書きする\n",
    "        print('extendsclass!')\n",
    "    def new_method(self):\n",
    "        # 継承元にない関数を追加できる\n",
    "        print('this is new method in extendsclass')\n",
    "\n",
    "ec = extendsclass1() # 継承元の__init__が実行される\n",
    "ec.who_are_you()\n",
    "ec.new_method()"
   ]
  },
  {
   "cell_type": "code",
   "execution_count": 3,
   "id": "dabdceb2",
   "metadata": {},
   "outputs": [
    {
     "name": "stdout",
     "output_type": "stream",
     "text": [
      "extendsclass2 init\n"
     ]
    }
   ],
   "source": [
    "# 継承元__init__の上書き\n",
    "class extendsclass2(baseclass):\n",
    "    def __init__(self):\n",
    "        # 継承元を上書きする\n",
    "        print('extendsclass2 init')\n",
    "ec2 = extendsclass2()"
   ]
  },
  {
   "cell_type": "code",
   "execution_count": 4,
   "id": "1ed0f24a",
   "metadata": {},
   "outputs": [
    {
     "name": "stdout",
     "output_type": "stream",
     "text": [
      "baseclass init\n",
      "extendsclass3 init\n"
     ]
    }
   ],
   "source": [
    "# 継承元__init__の明示的な呼び出し\n",
    "class extendsclass3(baseclass):\n",
    "    def __init__(self):\n",
    "        super().__init__() # 継承元の__init__を呼び出す。引数0の場合「()」になる。\n",
    "        print('extendsclass3 init')\n",
    "ec3 = extendsclass3()"
   ]
  },
  {
   "cell_type": "code",
   "execution_count": null,
   "id": "b82d736a",
   "metadata": {},
   "outputs": [],
   "source": []
  }
 ],
 "metadata": {
  "kernelspec": {
   "display_name": "Python 3 (ipykernel)",
   "language": "python",
   "name": "python3"
  },
  "language_info": {
   "codemirror_mode": {
    "name": "ipython",
    "version": 3
   },
   "file_extension": ".py",
   "mimetype": "text/x-python",
   "name": "python",
   "nbconvert_exporter": "python",
   "pygments_lexer": "ipython3",
   "version": "3.8.9"
  }
 },
 "nbformat": 4,
 "nbformat_minor": 5
}
