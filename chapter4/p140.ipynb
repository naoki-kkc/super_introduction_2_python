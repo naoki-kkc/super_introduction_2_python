{
 "cells": [
  {
   "cell_type": "code",
   "execution_count": 4,
   "id": "cbb54816",
   "metadata": {},
   "outputs": [
    {
     "name": "stdout",
     "output_type": "stream",
     "text": [
      "fuga\n",
      "call foobar\n"
     ]
    }
   ],
   "source": [
    "# class\n",
    "class hoge:\n",
    "    val1 = 'fuga'\n",
    "    def foobar(self): # selfを第一引数にするのはお約束\n",
    "        return 'call foobar'\n",
    "\n",
    "hg = hoge()\n",
    "print(hoge.val1)\n",
    "print(hg.foobar())"
   ]
  },
  {
   "cell_type": "code",
   "execution_count": 9,
   "id": "96d8be87",
   "metadata": {},
   "outputs": [
    {
     "name": "stdout",
     "output_type": "stream",
     "text": [
      "hg_a.val1 = piyo\n",
      "hg_b.val1 = fuga\n"
     ]
    }
   ],
   "source": [
    "hg_a = hoge()\n",
    "hg_b = hoge()\n",
    "\n",
    "hg_a.val1 = 'piyo' # hg_aのval1を変更する\n",
    "\n",
    "print(\"hg_a.val1 = \" + hg_a.val1) # 変更された値になっている\n",
    "print(\"hg_b.val1 = \" + hg_b.val1) # オブジェクトが異なるのでhg_aの値に影響されない"
   ]
  },
  {
   "cell_type": "code",
   "execution_count": 20,
   "id": "0df927cf",
   "metadata": {},
   "outputs": [
    {
     "name": "stdout",
     "output_type": "stream",
     "text": [
      "2000\n",
      "2000\n"
     ]
    }
   ],
   "source": [
    "class hoge2:\n",
    "    val1 = 1000\n",
    "    def twice_val1_incorrect(self):\n",
    "        # 関数内にval1が存在しないため、NameErrorになる\n",
    "        return val1 * 2\n",
    "    def twice_val1_correct(self):\n",
    "        # class内のval1にアクセスするにはselfを通す\n",
    "        return self.val1 * 2\n",
    "    def twice_val1_correct_sample(seeeeeeelf):\n",
    "        # 第一引数名はself以外でも動くが、慣例でselfなので敢えて変更する意味はない\n",
    "        return seeeeeeelf.val1 * 2\n",
    "\n",
    "hg2 = hoge2()\n",
    "# print(hg2.twice_val1_incorrect()) # 呼び出すとNameError\n",
    "print(hg2.twice_val1_correct())     # 正常に呼び出し可能\n",
    "print(hg2.twice_val1_correct_sample())"
   ]
  },
  {
   "cell_type": "code",
   "execution_count": 25,
   "id": "a7c78c04",
   "metadata": {},
   "outputs": [
    {
     "name": "stdout",
     "output_type": "stream",
     "text": [
      "-- インスタンス化前 --------\n",
      "init!\n",
      "-- インスタンス化後 --------\n",
      "something2do\n"
     ]
    }
   ],
   "source": [
    "class hoge3:\n",
    "    def __init__(self):\n",
    "        # インスタンス化時に実行される特殊な内容\n",
    "        print('init!')\n",
    "    def something2do(self):\n",
    "        print('something2do')\n",
    "\n",
    "print('-- インスタンス化前 --------')\n",
    "hg3 = hoge3()\n",
    "print('-- インスタンス化後 --------')\n",
    "hg3.something2do()"
   ]
  },
  {
   "cell_type": "code",
   "execution_count": 32,
   "id": "dc58279f",
   "metadata": {},
   "outputs": [
    {
     "name": "stdout",
     "output_type": "stream",
     "text": [
      "init: arg1=[a], arg2=[b], arg3=[c]\n",
      "a\n",
      "b\n",
      "c\n"
     ]
    }
   ],
   "source": [
    "class hoge4:\n",
    "    def __init__(self, arg1, arg2, arg3):\n",
    "        # インスタンス化時に引数で渡して初期化に使用することも可能\n",
    "        print('init: arg1=[' + arg1 + '], arg2=[' + arg2 + '], arg3=[' + arg3 + ']')\n",
    "        self.arg1 = arg1\n",
    "        self.arg2 = arg2\n",
    "        self.arg3 = arg3\n",
    "    def print_arg1(self):\n",
    "        print(self.arg1)\n",
    "    def print_arg2(self):\n",
    "        print(self.arg2)\n",
    "    def print_arg3(self):\n",
    "        print(self.arg3)\n",
    "\n",
    "hg4 = hoge4('a', 'b', 'c')\n",
    "hg4.print_arg1()\n",
    "hg4.print_arg2()\n",
    "hg4.print_arg3()\n",
    "\n",
    "# hg4 = hoge4('a', 'b') # なお足りないと怒られる"
   ]
  },
  {
   "cell_type": "code",
   "execution_count": null,
   "id": "048db6b9",
   "metadata": {},
   "outputs": [],
   "source": [
    "\n"
   ]
  }
 ],
 "metadata": {
  "kernelspec": {
   "display_name": "Python 3 (ipykernel)",
   "language": "python",
   "name": "python3"
  },
  "language_info": {
   "codemirror_mode": {
    "name": "ipython",
    "version": 3
   },
   "file_extension": ".py",
   "mimetype": "text/x-python",
   "name": "python",
   "nbconvert_exporter": "python",
   "pygments_lexer": "ipython3",
   "version": "3.8.9"
  }
 },
 "nbformat": 4,
 "nbformat_minor": 5
}
