{
 "cells": [
  {
   "cell_type": "code",
   "execution_count": 1,
   "id": "4a56f57e",
   "metadata": {},
   "outputs": [],
   "source": [
    "# 外部ライブラリ - requests"
   ]
  },
  {
   "cell_type": "code",
   "execution_count": 2,
   "id": "b20928d6",
   "metadata": {},
   "outputs": [
    {
     "name": "stdout",
     "output_type": "stream",
     "text": [
      "<!doctype html><html itemscope=\"\" itemtype=\"http://schema.org/WebPage\" lang=\"ja\"><head><meta content=\"世界中のあらゆる情報を検索するためのツールを提供しています。さまざまな検索機能を活用して、お探しの情報を見つけてください。\" name=\"description\"><meta content=\"noodp\" name=\"robots\"><meta content=\"text/html; charset=UTF-8\" http-equiv=\"Content-Type\"><meta content=\"/images/branding/googleg/1x/googleg_standard_color_128dp.png\" itemprop=\"image\"><title>Google</title><script nonce=\"SJO3PKwDnoAok-OBiR1rsw\">(function(){window.google={kEI:'Bk2rYqD1NsWDmAW2moXIBg',kEXPI:'0,1302536,56873,1709,4350,206,4804,2316,383,246,5,1354,4013,1123753,1197761,640,380089,16115,17444,11240,17572,4859,1361,9291,3022,17586,4020,978,13228,3847,10622,22112,629,5081,1593,1279,2744,147,1103,840,2196,4101,109,3405,606,2023,1777,520,14670,3227,2845,7,4808,791,11851,7540,8227,553,1851,2614,3784,9358,3,576,6459,804,13320,4,1528,2304,27348,4764,2658,7357,18095,16786,5821,2536,4094,17,4035,3,3541,1,42154,2,14022,14116,9865,1758,5679,1021,2380,2719,18260,2,6,5,7750,4568,6258,23419,1251,4606,2,6,5,1216,5680,2,8175,1111,4332,5017,1072,1395,445,2,2,1,6959,19595,78,8049,106,2566,4016,98,701,3043,11637,1386,5955,3423,6,5,11021,7,1922,542,5077,87,3463,610,23,805,5512,547,896,2045,3,4477,1206,209,5053,1003,156,8525,1847,1303,2544,40,1486,3317,1268,66,381,1062,1,314,761,1983,960,1102,2457,282,372,596,567,123,418,282,4,1,2,2,2,2,1853,327,104,1435,488,992,170,30,73,1249,111,78,2,6,931,1265,323,142,191,512,441,11,6,741,6,1033,5398235,11,1861,3459,5996275,2803516,3311,141,795,19735,1,1,346,6,165,111,2,2,2,20730176,3220020,2738465,123562,1180116,1964,2935,159,1358,965,11255,2555,851,4393,934,911772,19795',kBL:'44E2'};google.sn='webhp';google.kHL='ja';})();(function(){\n",
      "var f=this||self;var h,k=[];function l(a){for(var b;a&&(!a.getAttribute||!(b=a.getAttribute(\"eid\")));)a=a.parentNode;return b||h}function m(a){for(var b=null;a&&(!a.getAttribute||!(b=a.getAttribute(\"leid\")));)a=a.parentNode;return b}\n",
      "function n(a,b,c,d,g){var e=\"\";c||-1!==b.search(\"&ei=\")||(e=\"&ei=\"+l(d),-1===b.search(\"&lei=\")&&(d=m(d))&&(e+=\"&lei=\"+d));d=\"\";!c&&f._cshid&&-1===b.search(\"&cshid=\")&&\"slh\"!==a&&(d=\"&cshid=\"+f._cshid);c=c||\"/\"+(g||\"gen_204\")+\"?atyp=i&ct=\"+a+\"&cad=\"+b+e+\"&zx=\"+Date.now()+d;/^http:/i.test(c)&&\"https:\"===window.location.protocol&&(google.ml&&google.ml(Error(\"a\"),!1,{src:c,glmm:1}),c=\"\");return c};h=google.kEI;google.getEI=l;google.getLEI=m;google.ml=function(){return null};google.log=function(a,b,c,d,g){if(c=n(a,b,c,d,g)){a=new Image;var e=k.length;k[e]=a;a.onerror=a.onload=a.onabort=function(){delete k[e]};a.src=c}};google.logUrl=n;}).call(this);(function(){\n",
      "google.y={};google.sy=[];google.x=function(a,b){if(a)var c=a.id;else{do c=Math.random();while(google.y[c])}google.y[c]=[a,b];return!1};google.sx=function(a){google.sy.push(a)};google.lm=[];google.plm=function(a){google.lm.push.apply(google.lm,a)};google.lq=[];google.load=function(a,b,c){google.lq.push([[a],b,c])};google.loadAll=function(a,b){google.lq.push([a,b])};google.bx=!1;google.lx=function(){};}).call(this);google.f={};(function(){\n",
      "document.documentElement.addEventListener(\"submit\",function(b){var a;if(a=b.target){var c=a.getAttribute(\"data-submitfalse\");a=\"1\"===c||\"q\"===c&&!a.elements.q.value?!0:!1}else a=!1;a&&(b.preventDefault(),b.stopPropagation())},!0);document.documentElement.addEventListener(\"click\",function(b){var a;a:{for(a=b.target;a&&a!==document.documentElement;a=a.parentElement)if(\"A\"===a.tagName){a=\"1\"===a.getAttribute(\"data-nohref\");break a}a=!1}a&&b.preventDefault()},!0);}).call(this);</script><style>#gbar,#guser{font-size:13px;padding-top:1px !important;}#gbar{height:22px}#guser{padding-bottom:7px !important;text-align:right}.gbh,.gbd{border-top:1px solid #c9d7f1;font-size:1px}.gbh{height:0;position:absolute;top:24px;width:100%}@media all{.gb1{height:22px;margin-right:.5em;vertical-align:top}#gbar{float:left}}a.gb1,a.gb4{text-decoration:underline !important}a.gb1,a.gb4{color:#00c !important}.gbi .gb4{color:#dd8e27 !important}.gbf .gb4{color:#900 !important}\n",
      "</style><style>body,td,a,p,.h{font-family:arial,sans-serif}body{margin:0;overflow-y:scroll}#gog{padding:3px 8px 0}td{line-height:.8em}.gac_m td{line-height:17px}form{margin-bottom:20px}.h{color:#1558d6}em{font-weight:bold;font-style:normal}.lst{height:25px;width:496px}.gsfi,.lst{font:18px arial,sans-serif}.gsfs{font:17px arial,sans-serif}.ds{display:inline-box;display:inline-block;margin:3px 0 4px;margin-left:4px}input{font-family:inherit}body{background:#fff;color:#000}a{color:#4b11a8;text-decoration:none}a:hover,a:active{text-decoration:underline}.fl a{color:#1558d6}a:visited{color:#4b11a8}.sblc{padding-top:5px}.sblc a{display:block;margin:2px 0;margin-left:13px;font-size:11px}.lsbb{background:#f8f9fa;border:solid 1px;border-color:#dadce0 #70757a #70757a #dadce0;height:30px}.lsbb{display:block}#WqQANb a{display:inline-block;margin:0 12px}.lsb{background:url(/images/nav_logo229.png) 0 -261px repeat-x;border:none;color:#000;cursor:pointer;height:30px;margin:0;outline:0;font:15px arial,sans-serif;vertical-align:top}.lsb:active{background:#dadce0}.lst:focus{outline:none}</style><script nonce=\"SJO3PKwDnoAok-OBiR1rsw\">(function(){window.google.erd={jsr:1,bv:1602,de:true};\n",
      "var f=this||self;var g,h=null!=(g=f.mei)?g:1,m,n=null!=(m=f.sdo)?m:!0,p=0,q,r=google.erd,u=r.jsr;google.ml=function(a,b,d,k,c){c=void 0===c?2:c;b&&(q=a&&a.message);if(google.dl)return google.dl(a,c,d),null;if(0>u){window.console&&console.error(a,d);if(-2===u)throw a;b=!1}else b=!a||!a.message||\"Error loading script\"===a.message||p>=h&&!k?!1:!0;if(!b)return null;p++;d=d||{};var e=c;c=encodeURIComponent;b=\"/gen_204?atyp=i&ei=\"+c(google.kEI);google.kEXPI&&(b+=\"&jexpid=\"+c(google.kEXPI));b+=\"&srcpg=\"+c(google.sn)+\"&jsr=\"+c(r.jsr)+\"&bver=\"+c(r.bv)+(\"&jsel=\"+e);e=a.lineNumber;void 0!==e&&(b+=\"&line=\"+\n",
      "e);var l=a.fileName;l&&(b+=\"&script=\"+c(l),e&&l===window.location.href&&(e=document.documentElement.outerHTML.split(\"\\n\")[e],b+=\"&cad=\"+c(e?e.substring(0,300):\"No script found.\")));for(var t in d)b+=\"&\",b+=c(t),b+=\"=\",b+=c(d[t]);b=b+\"&emsg=\"+c(a.name+\": \"+a.message);b=b+\"&jsst=\"+c(a.stack||\"N/A\");12288<=b.length&&(b=b.substr(0,12288));a=b;k||google.log(0,\"\",a);return a};window.onerror=function(a,b,d,k,c){q!==a&&(a=c instanceof Error?c:Error(a),void 0===d||\"lineNumber\"in a||(a.lineNumber=d),void 0===b||\"fileName\"in a||(a.fileName=b),google.ml(a,!1,void 0,!1,\"SyntaxError\"===a.name||\"SyntaxError\"===a.message.substring(0,11)?2:0));q=null;n&&p>=h&&(window.onerror=null)};})();</script></head><body bgcolor=\"#fff\"><script nonce=\"SJO3PKwDnoAok-OBiR1rsw\">(function(){var src='/images/nav_logo229.png';var iesg=false;document.body.onload = function(){window.n && window.n();if (document.images){new Image().src=src;}\n",
      "if (!iesg){document.f&&document.f.q.focus();document.gbqf&&document.gbqf.q.focus();}\n",
      "}\n",
      "})();</script><div id=\"mngb\"><div id=gbar><nobr><b class=gb1>検索</b> <a class=gb1 href=\"http://www.google.co.jp/imghp?hl=ja&tab=wi\">画像</a> <a class=gb1 href=\"http://maps.google.co.jp/maps?hl=ja&tab=wl\">マップ</a> <a class=gb1 href=\"https://play.google.com/?hl=ja&tab=w8\">Play</a> <a class=gb1 href=\"http://www.youtube.com/?gl=JP&tab=w1\">YouTube</a> <a class=gb1 href=\"https://news.google.com/?tab=wn\">ニュース</a> <a class=gb1 href=\"https://mail.google.com/mail/?tab=wm\">Gmail</a> <a class=gb1 href=\"https://drive.google.com/?tab=wo\">ドライブ</a> <a class=gb1 style=\"text-decoration:none\" href=\"https://www.google.co.jp/intl/ja/about/products?tab=wh\"><u>もっと見る</u> &raquo;</a></nobr></div><div id=guser width=100%><nobr><span id=gbn class=gbi></span><span id=gbf class=gbf></span><span id=gbe></span><a href=\"http://www.google.co.jp/history/optout?hl=ja\" class=gb4>ウェブ履歴</a> | <a  href=\"/preferences?hl=ja\" class=gb4>設定</a> | <a target=_top id=gb_70 href=\"https://accounts.google.com/ServiceLogin?hl=ja&passive=true&continue=http://www.google.co.jp/&ec=GAZAAQ\" class=gb4>ログイン</a></nobr></div><div class=gbh style=left:0></div><div class=gbh style=right:0></div></div><center><br clear=\"all\" id=\"lgpd\"><div id=\"lga\"><img alt=\"Google\" height=\"92\" src=\"/images/branding/googlelogo/1x/googlelogo_white_background_color_272x92dp.png\" style=\"padding:28px 0 14px\" width=\"272\" id=\"hplogo\"><br><br></div><form action=\"/search\" name=\"f\"><table cellpadding=\"0\" cellspacing=\"0\"><tr valign=\"top\"><td width=\"25%\">&nbsp;</td><td align=\"center\" nowrap=\"\"><input name=\"ie\" value=\"Shift_JIS\" type=\"hidden\"><input value=\"ja\" name=\"hl\" type=\"hidden\"><input name=\"source\" type=\"hidden\" value=\"hp\"><input name=\"biw\" type=\"hidden\"><input name=\"bih\" type=\"hidden\"><div class=\"ds\" style=\"height:32px;margin:4px 0\"><input class=\"lst\" style=\"margin:0;padding:5px 8px 0 6px;vertical-align:top;color:#000\" autocomplete=\"off\" value=\"\" title=\"Google 検索\" maxlength=\"2048\" name=\"q\" size=\"57\"></div><br style=\"line-height:0\"><span class=\"ds\"><span class=\"lsbb\"><input class=\"lsb\" value=\"Google 検索\" name=\"btnG\" type=\"submit\"></span></span><span class=\"ds\"><span class=\"lsbb\"><input class=\"lsb\" id=\"tsuid1\" value=\"I'm Feeling Lucky\" name=\"btnI\" type=\"submit\"><script nonce=\"SJO3PKwDnoAok-OBiR1rsw\">(function(){var id='tsuid1';document.getElementById(id).onclick = function(){if (this.form.q.value){this.checked = 1;if (this.form.iflsig)this.form.iflsig.disabled = false;}\n",
      "else top.location='/doodles/';};})();</script><input value=\"AJiK0e8AAAAAYqtbFho_RQQ1mkwtUfdR8ddzXKePLgQR\" name=\"iflsig\" type=\"hidden\"></span></span></td><td class=\"fl sblc\" align=\"left\" nowrap=\"\" width=\"25%\"><a href=\"/advanced_search?hl=ja&amp;authuser=0\">検索オプション</a></td></tr></table><input id=\"gbv\" name=\"gbv\" type=\"hidden\" value=\"1\"><script nonce=\"SJO3PKwDnoAok-OBiR1rsw\">(function(){\n",
      "var a,b=\"1\";if(document&&document.getElementById)if(\"undefined\"!=typeof XMLHttpRequest)b=\"2\";else if(\"undefined\"!=typeof ActiveXObject){var c,d,e=[\"MSXML2.XMLHTTP.6.0\",\"MSXML2.XMLHTTP.3.0\",\"MSXML2.XMLHTTP\",\"Microsoft.XMLHTTP\"];for(c=0;d=e[c++];)try{new ActiveXObject(d),b=\"2\"}catch(h){}}a=b;if(\"2\"==a&&-1==location.search.indexOf(\"&gbv=2\")){var f=google.gbvu,g=document.getElementById(\"gbv\");g&&(g.value=a);f&&window.setTimeout(function(){location.href=f},0)};}).call(this);</script></form><div id=\"gac_scont\"></div><div style=\"font-size:83%;min-height:3.5em\"><br></div><span id=\"footer\"><div style=\"font-size:10pt\"><div style=\"margin:19px auto;text-align:center\" id=\"WqQANb\"><a href=\"http://www.google.co.jp/intl/ja/services/\">ビジネス ソリューション</a><a href=\"/intl/ja/about.html\">Google について</a><a href=\"http://www.google.co.jp/setprefdomain?prefdom=US&amp;sig=K_48GtEfP3qYOBbTMCi0C2ysbFDVU%3D\" id=\"fehl\">Google.com</a></div></div><p style=\"font-size:8pt;color:#70757a\">&copy; 2022 - <a href=\"/intl/ja/policies/privacy/\">プライバシー</a> - <a href=\"/intl/ja/policies/terms/\">規約</a></p></span></center><script nonce=\"SJO3PKwDnoAok-OBiR1rsw\">(function(){window.google.cdo={height:757,width:1440};(function(){\n",
      "var a=window.innerWidth,b=window.innerHeight;if(!a||!b){var c=window.document,d=\"CSS1Compat\"==c.compatMode?c.documentElement:c.body;a=d.clientWidth;b=d.clientHeight}a&&b&&(a!=google.cdo.width||b!=google.cdo.height)&&google.log(\"\",\"\",\"/client_204?&atyp=i&biw=\"+a+\"&bih=\"+b+\"&ei=\"+google.kEI);}).call(this);})();</script> <script nonce=\"SJO3PKwDnoAok-OBiR1rsw\">(function(){google.xjs={ck:'',cs:'',excm:[]};})();</script>  <script nonce=\"SJO3PKwDnoAok-OBiR1rsw\">(function(){var u='/xjs/_/js/k\\x3dxjs.hp.en.N8iw8SkMiI8.O/am\\x3dAOAJAEACIAE/d\\x3d1/ed\\x3d1/rs\\x3dACT90oHG5PKavlNpS_4K3cuOzaxR9tX6cA/m\\x3dsb_he,d';\n",
      "var d=this||self,e=function(a){return a};\n",
      "var g;var l=function(a,b){this.g=b===h?a:\"\"};l.prototype.toString=function(){return this.g+\"\"};var h={};function n(){var a=u;google.lx=function(){p(a);google.lx=function(){}};google.bx||google.lx()}\n",
      "function p(a){google.timers&&google.timers.load&&google.tick&&google.tick(\"load\",\"xjsls\");var b=document;var c=\"SCRIPT\";\"application/xhtml+xml\"===b.contentType&&(c=c.toLowerCase());c=b.createElement(c);if(void 0===g){b=null;var k=d.trustedTypes;if(k&&k.createPolicy){try{b=k.createPolicy(\"goog#html\",{createHTML:e,createScript:e,createScriptURL:e})}catch(q){d.console&&d.console.error(q.message)}g=b}else g=b}a=(b=g)?b.createScriptURL(a):a;a=new l(a,h);c.src=a instanceof l&&a.constructor===l?a.g:\"type_error:TrustedResourceUrl\";var f,m;(f=(a=null==(m=(f=(c.ownerDocument&&c.ownerDocument.defaultView||window).document).querySelector)?void 0:m.call(f,\"script[nonce]\"))?a.nonce||a.getAttribute(\"nonce\")||\"\":\"\")&&c.setAttribute(\"nonce\",f);document.body.appendChild(c);google.psa=!0};google.xjsu=u;setTimeout(function(){n()},0);})();function _DumpException(e){throw e;}\n",
      "function _F_installCss(c){}\n",
      "(function(){google.jl={attn:false,blt:'none',chnk:0,dw:false,dwu:true,emtn:0,end:0,ine:false,injs:'none',injt:0,injth:0,injv2:false,lls:'default',pdt:0,rep:0,snet:true,strt:0,ubm:false,uwp:true};})();(function(){var pmc='{\\x22d\\x22:{},\\x22sb_he\\x22:{\\x22agen\\x22:false,\\x22cgen\\x22:false,\\x22client\\x22:\\x22heirloom-hp\\x22,\\x22dh\\x22:true,\\x22dhqt\\x22:true,\\x22ds\\x22:\\x22\\x22,\\x22ffql\\x22:\\x22ja\\x22,\\x22fl\\x22:true,\\x22host\\x22:\\x22google.co.jp\\x22,\\x22isbh\\x22:28,\\x22jsonp\\x22:true,\\x22msgs\\x22:{\\x22cibl\\x22:\\x22検索をクリア\\x22,\\x22dym\\x22:\\x22もしかして:\\x22,\\x22lcky\\x22:\\x22I\\\\u0026#39;m Feeling Lucky\\x22,\\x22lml\\x22:\\x22詳細\\x22,\\x22oskt\\x22:\\x22入力ツール\\x22,\\x22psrc\\x22:\\x22この検索キーワードは\\\\u003Ca href\\x3d\\\\\\x22/history\\\\\\x22\\\\u003Eウェブ履歴\\\\u003C/a\\\\u003Eから削除されました\\x22,\\x22psrl\\x22:\\x22削除\\x22,\\x22sbit\\x22:\\x22画像で検索\\x22,\\x22srch\\x22:\\x22Google 検索\\x22},\\x22ovr\\x22:{},\\x22pq\\x22:\\x22\\x22,\\x22refpd\\x22:true,\\x22rfs\\x22:[],\\x22sbas\\x22:\\x220 3px 8px 0 rgba(0,0,0,0.2),0 0 0 1px rgba(0,0,0,0.08)\\x22,\\x22sbpl\\x22:16,\\x22sbpr\\x22:16,\\x22scd\\x22:10,\\x22stok\\x22:\\x22ww0JFSUbWAW9BINt0AmBADrbAP4\\x22,\\x22uhde\\x22:false}}';google.pmc=JSON.parse(pmc);})();</script>        </body></html>\n"
     ]
    }
   ],
   "source": [
    "# ページを取得する\n",
    "import requests\n",
    "rg = requests.get('http://google.co.jp')\n",
    "print(rg.text)"
   ]
  },
  {
   "cell_type": "code",
   "execution_count": 3,
   "id": "834cc977",
   "metadata": {},
   "outputs": [
    {
     "name": "stdout",
     "output_type": "stream",
     "text": [
      "https://zipcloud.ibsnet.co.jp/api/search?zipcode=1600001\n",
      "{'message': None, 'results': [{'address1': '東京都', 'address2': '新宿区', 'address3': '片町', 'kana1': 'ﾄｳｷｮｳﾄ', 'kana2': 'ｼﾝｼﾞｭｸｸ', 'kana3': 'ｶﾀﾏﾁ', 'prefcode': '13', 'zipcode': '1600001'}], 'status': 200}\n"
     ]
    }
   ],
   "source": [
    "# Web APIから取得\n",
    "import requests\n",
    "\n",
    "api_url = 'https://zipcloud.ibsnet.co.jp/api/search?zipcode='\n",
    "zipcode = '1600001'\n",
    "req_url = api_url + zipcode\n",
    "print(req_url)\n",
    "\n",
    "print(requests.get(req_url).json()) # 取得結果"
   ]
  }
 ],
 "metadata": {
  "kernelspec": {
   "display_name": "Python 3 (ipykernel)",
   "language": "python",
   "name": "python3"
  },
  "language_info": {
   "codemirror_mode": {
    "name": "ipython",
    "version": 3
   },
   "file_extension": ".py",
   "mimetype": "text/x-python",
   "name": "python",
   "nbconvert_exporter": "python",
   "pygments_lexer": "ipython3",
   "version": "3.8.9"
  }
 },
 "nbformat": 4,
 "nbformat_minor": 5
}
