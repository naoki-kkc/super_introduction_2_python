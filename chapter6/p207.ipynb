{
 "cells": [
  {
   "cell_type": "code",
   "execution_count": 1,
   "id": "cb177b94",
   "metadata": {},
   "outputs": [],
   "source": [
    "# 外部ライブラリ - Pillow"
   ]
  },
  {
   "cell_type": "code",
   "execution_count": 2,
   "id": "7dca263a",
   "metadata": {},
   "outputs": [],
   "source": [
    "# ライブラリを使用して画像を表示する\n",
    "from PIL import Image\n",
    "img = Image.open('p207_sample.png')\n",
    "img.show()"
   ]
  },
  {
   "cell_type": "code",
   "execution_count": 3,
   "id": "76bb3dec",
   "metadata": {},
   "outputs": [],
   "source": [
    "# RGBのRとBを入れ替える\n",
    "from PIL import Image\n",
    "img = Image.open('p207_sample.png')\n",
    "\n",
    "r, g, b, a  = img.split() # 本ではRGBで返るが、現状RGBAで返ってくる\n",
    "conv_img    = Image.merge('RGB', (b,g,r)) # RGBの順で指定するところをBGRで指定\n",
    "conv_img.show()"
   ]
  },
  {
   "cell_type": "code",
   "execution_count": 4,
   "id": "b987d7aa",
   "metadata": {},
   "outputs": [],
   "source": [
    "# グレースケールで表示\n",
    "from PIL import Image\n",
    "img = Image.open('p207_sample.png')\n",
    "\n",
    "gs_img = img.convert('L')\n",
    "gs_img.show()"
   ]
  },
  {
   "cell_type": "code",
   "execution_count": 5,
   "id": "7713bcee",
   "metadata": {},
   "outputs": [],
   "source": [
    "# 画像を回転\n",
    "from PIL import Image\n",
    "img = Image.open('p207_sample.png')\n",
    "\n",
    "# 以下は本に載っている通りであるが、DeprecationWarningが出る\n",
    "# img.transpose(Image.ROTATE_90).show()\n",
    "# img.transpose(Image.ROTATE_270).show()\n",
    "\n",
    "# 上記を下記URLに従って書き換えた\n",
    "## https://pillow.readthedocs.io/en/stable/deprecations.html\n",
    "img.transpose(Image.Transpose.ROTATE_90).show()\n",
    "img.transpose(Image.Transpose.ROTATE_270).show()\n"
   ]
  }
 ],
 "metadata": {
  "kernelspec": {
   "display_name": "Python 3 (ipykernel)",
   "language": "python",
   "name": "python3"
  },
  "language_info": {
   "codemirror_mode": {
    "name": "ipython",
    "version": 3
   },
   "file_extension": ".py",
   "mimetype": "text/x-python",
   "name": "python",
   "nbconvert_exporter": "python",
   "pygments_lexer": "ipython3",
   "version": "3.8.9"
  }
 },
 "nbformat": 4,
 "nbformat_minor": 5
}
