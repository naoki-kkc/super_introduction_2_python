{
 "cells": [
  {
   "cell_type": "code",
   "execution_count": 1,
   "id": "1c2f0426",
   "metadata": {},
   "outputs": [],
   "source": [
    "# 外部ライブラリ - beautifulsoup4"
   ]
  },
  {
   "cell_type": "code",
   "execution_count": 2,
   "id": "d849f8ad",
   "metadata": {},
   "outputs": [
    {
     "name": "stdout",
     "output_type": "stream",
     "text": [
      "<title>hoge</title>\n",
      "<body>fuga</body>\n"
     ]
    }
   ],
   "source": [
    "from bs4 import BeautifulSoup\n",
    "soup = BeautifulSoup('<html><head><title>hoge</title></head><body>fuga</body></html>', 'html.parser')\n",
    "print(soup.title)\n",
    "print(soup.body)"
   ]
  },
  {
   "cell_type": "code",
   "execution_count": 3,
   "id": "3cf2c7f0",
   "metadata": {},
   "outputs": [
    {
     "name": "stdout",
     "output_type": "stream",
     "text": [
      "<title>ローコード／ノーコード開発市場が24.3％の大幅増、2023年度には1,000億円規模に</title>\n",
      "<title>国内ITベンダーの売上ランキング2021年版、1位は富士通、アクセンチュアは2桁増</title>\n",
      "<title>【独自】USEN、新決済サービス「Uペイ」を展開か</title>\n",
      "<title>PayPayの100億円キャンペーンが正式に終了、開始からわずか10日間</title>\n",
      "<title>HPE、オールフラッシュ「HPE Nimble Storage」を刷新　SCMとNVMeを活用可能に</title>\n",
      "<title>基調講演に落合陽一氏　アートやエンジニアリングなどの広告における役割とは</title>\n",
      "<title>ヤマト運輸がEC事業者向けAPIを公開　エアークローゼットが導入第1号に</title>\n",
      "<title>アイピーキューブ、企業・学校向け統合認証プラットフォームを発表</title>\n",
      "<title>三井住友FG、Office 365をグループ全体で全面採用　邦銀初のMyAnalyticsも導入</title>\n",
      "<title>米IICとIVIが産業用IoT推進で合意、共同テストベッド実施など5項目</title>\n",
      "<title>日立造船がSAP S/4HANAをクラウド展開、コンカーやAribaも導入</title>\n",
      "<title>Googleが出資したリップルの仮想通貨「XRP」、アット東京が日本初のValidator運営事業者に</title>\n",
      "<title>東芝、法人向けに「dynabook VC72/B」を発売　360度開閉する2in1、軽さ約1,099g</title>\n",
      "<title>アット東京にJPNAPの接続拠点が新設　国内主要IX事業者が集積</title>\n",
      "<title>ようやく底打ちか、約2年ぶりにPCの出荷台数が増加</title>\n"
     ]
    },
    {
     "name": "stderr",
     "output_type": "stream",
     "text": [
      "/Users/ginger893/Documents/workspace/super_introduction_2_python/env_si2p/lib/python3.8/site-packages/bs4/builder/__init__.py:545: XMLParsedAsHTMLWarning: It looks like you're parsing an XML document using an HTML parser. If this really is an HTML document (maybe it's XHTML?), you can ignore or filter this warning. If it's XML, you should know that using an XML parser will be more reliable. To parse this document as XML, make sure you have the lxml package installed, and pass the keyword argument `features=\"xml\"` into the BeautifulSoup constructor.\n",
      "  warnings.warn(\n"
     ]
    }
   ],
   "source": [
    "import requests\n",
    "from bs4 import BeautifulSoup\n",
    "\n",
    "rss_data = requests.get('https://www.sbbit.jp/index2.rss')\n",
    "# print(rss_data.text)\n",
    "\n",
    "soup = BeautifulSoup(rss_data.text, 'html.parser')\n",
    "for item in soup.findAll('item'):\n",
    "    print(item.title)"
   ]
  },
  {
   "cell_type": "code",
   "execution_count": null,
   "id": "ded5aa9e",
   "metadata": {},
   "outputs": [],
   "source": []
  }
 ],
 "metadata": {
  "kernelspec": {
   "display_name": "Python 3 (ipykernel)",
   "language": "python",
   "name": "python3"
  },
  "language_info": {
   "codemirror_mode": {
    "name": "ipython",
    "version": 3
   },
   "file_extension": ".py",
   "mimetype": "text/x-python",
   "name": "python",
   "nbconvert_exporter": "python",
   "pygments_lexer": "ipython3",
   "version": "3.8.9"
  }
 },
 "nbformat": 4,
 "nbformat_minor": 5
}
