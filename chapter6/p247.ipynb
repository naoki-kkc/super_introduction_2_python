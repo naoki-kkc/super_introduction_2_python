{
 "cells": [
  {
   "cell_type": "code",
   "execution_count": 1,
   "id": "ae24f7b6",
   "metadata": {},
   "outputs": [],
   "source": [
    "# 自作ライブラリモジュールの呼び出し"
   ]
  },
  {
   "cell_type": "code",
   "execution_count": 2,
   "id": "6bc9298b",
   "metadata": {},
   "outputs": [
    {
     "name": "stdout",
     "output_type": "stream",
     "text": [
      "p247_module.py is called!\n",
      "2022-06-17\n"
     ]
    }
   ],
   "source": [
    "import p247_module as p247\n",
    "p247.loaded()\n",
    "p247.show_today()"
   ]
  },
  {
   "cell_type": "code",
   "execution_count": null,
   "id": "90067201",
   "metadata": {},
   "outputs": [],
   "source": []
  }
 ],
 "metadata": {
  "kernelspec": {
   "display_name": "Python 3 (ipykernel)",
   "language": "python",
   "name": "python3"
  },
  "language_info": {
   "codemirror_mode": {
    "name": "ipython",
    "version": 3
   },
   "file_extension": ".py",
   "mimetype": "text/x-python",
   "name": "python",
   "nbconvert_exporter": "python",
   "pygments_lexer": "ipython3",
   "version": "3.8.9"
  }
 },
 "nbformat": 4,
 "nbformat_minor": 5
}
